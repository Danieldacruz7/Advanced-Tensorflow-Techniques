{
 "cells": [
  {
   "cell_type": "markdown",
   "metadata": {
    "id": "L6S2HVAkSt0p"
   },
   "source": [
    "# Week 2 Assignment: CIFAR-10 Autoencoder\n",
    "\n",
    "For this week, you will create a convolutional autoencoder for the [CIFAR10](https://www.tensorflow.org/datasets/catalog/cifar10) dataset. You are free to choose the architecture of your autoencoder provided that the output image has the same dimensions as the input image.\n",
    "\n",
    "After training, your model should meet loss and accuracy requirements when evaluated with the test dataset. You will then download the model and upload it in the classroom for grading. \n",
    "\n",
    "Let's begin!"
   ]
  },
  {
   "cell_type": "markdown",
   "metadata": {
    "id": "6r4iPr2jyisR"
   },
   "source": [
    "***Important:*** *This colab notebook has read-only access so you won't be able to save your changes. If you want to save your work periodically, please click `File -> Save a Copy in Drive` to create a copy in your account, then work from there.*  "
   ]
  },
  {
   "cell_type": "markdown",
   "metadata": {
    "id": "g1mzy2J8_nc1"
   },
   "source": [
    "## Imports"
   ]
  },
  {
   "cell_type": "code",
   "execution_count": 1,
   "metadata": {
    "id": "3EXwoz-KHtWO"
   },
   "outputs": [],
   "source": [
    "try:\n",
    "  # %tensorflow_version only exists in Colab.\n",
    "  %tensorflow_version 2.x\n",
    "except Exception:\n",
    "  pass\n",
    "\n",
    "import tensorflow as tf\n",
    "import tensorflow_datasets as tfds\n",
    "\n",
    "from keras.models import Sequential"
   ]
  },
  {
   "cell_type": "markdown",
   "metadata": {
    "id": "n2Gs6Lyc_pd0"
   },
   "source": [
    "## Load and prepare the dataset\n",
    "\n",
    "The [CIFAR 10](https://www.tensorflow.org/datasets/catalog/cifar10) dataset already has train and test splits and you can use those in this exercise. Here are the general steps:\n",
    "\n",
    "* Load the train/test split from TFDS. Set `as_supervised` to `True` so it will be convenient to use the preprocessing function we provided.\n",
    "* Normalize the pixel values to the range [0,1], then return `image, image` pairs for training instead of `image, label`. This is because you will check if the output image is successfully regenerated after going through your autoencoder.\n",
    "* Shuffle and batch the train set. Batch the test set (no need to shuffle).\n"
   ]
  },
  {
   "cell_type": "code",
   "execution_count": 16,
   "metadata": {
    "colab": {
     "base_uri": "https://localhost:8080/"
    },
    "id": "t9F7YsCNIKSA",
    "outputId": "dd751480-c9bb-4a5f-d3cc-744186fa3583"
   },
   "outputs": [
    {
     "name": "stdout",
     "output_type": "stream",
     "text": [
      "391\n",
      "79\n"
     ]
    }
   ],
   "source": [
    "# preprocessing function\n",
    "def map_image(image, label):\n",
    "  image = tf.cast(image, dtype=tf.float32)\n",
    "  image = image / 255.0\n",
    "\n",
    "  return image, image # dataset label is not used. replaced with the same image input.\n",
    "\n",
    "# parameters\n",
    "BATCH_SIZE = 128\n",
    "SHUFFLE_BUFFER_SIZE = 1024\n",
    "\n",
    "\n",
    "### START CODE HERE (Replace instances of `None` with your code) ###\n",
    "\n",
    "# use tfds.load() to fetch the 'train' split of CIFAR-10\n",
    "train_dataset = tfds.load('cifar10', as_supervised = True, split = 'train')\n",
    "\n",
    "# preprocess the dataset with the `map_image()` function above\n",
    "train_dataset = train_dataset.map(map_image)\n",
    "\n",
    "\n",
    "# shuffle and batch the dataset\n",
    "train_dataset = train_dataset.shuffle(SHUFFLE_BUFFER_SIZE).batch(BATCH_SIZE)\n",
    "print(len(train_dataset))\n",
    "\n",
    "\n",
    "# use tfds.load() to fetch the 'test' split of CIFAR-10\n",
    "test_dataset = tfds.load('cifar10', as_supervised = True, split = 'test')\n",
    "\n",
    "# preprocess the dataset with the `map_image()` function above\n",
    "test_dataset = test_dataset.map(map_image)\n",
    "\n",
    "# batch the dataset\n",
    "test_dataset = test_dataset.batch(BATCH_SIZE)\n",
    "print(len(test_dataset))\n",
    "\n",
    "### END CODE HERE ###"
   ]
  },
  {
   "cell_type": "markdown",
   "metadata": {
    "id": "rPyOgGJs_t98"
   },
   "source": [
    "## Build the Model\n",
    "\n",
    "Create the autoencoder model. As shown in the lectures, you will want to downsample the image in the encoder layers then upsample it in the decoder path. Note that the output layer should be the same dimensions as the original image. Your input images will have the shape `(32, 32, 3)`. If you deviate from this, your model may not be recognized by the grader and may fail. \n",
    "\n",
    "We included a few hints to use the Sequential API below but feel free to remove it and use the Functional API just like in the ungraded labs if you're more comfortable with it. Another reason to use the latter is if you want to visualize the encoder output. As shown in the ungraded labs, it will be easier to indicate multiple outputs with the Functional API. That is not required for this assignment though so you can just stack layers sequentially if you want a simpler solution."
   ]
  },
  {
   "cell_type": "code",
   "execution_count": 17,
   "metadata": {
    "colab": {
     "base_uri": "https://localhost:8080/"
    },
    "id": "Wr-Bok3lRgA3",
    "outputId": "4bda565e-8732-48a3-ded0-4b8fda138ddc"
   },
   "outputs": [
    {
     "name": "stdout",
     "output_type": "stream",
     "text": [
      "Model: \"model_3\"\n",
      "_________________________________________________________________\n",
      " Layer (type)                Output Shape              Param #   \n",
      "=================================================================\n",
      " input_4 (InputLayer)        [(None, 32, 32, 3)]       0         \n",
      "                                                                 \n",
      " conv2d_27 (Conv2D)          (None, 32, 32, 32)        896       \n",
      "                                                                 \n",
      " max_pooling2d_9 (MaxPooling  (None, 16, 16, 32)       0         \n",
      " 2D)                                                             \n",
      "                                                                 \n",
      " conv2d_28 (Conv2D)          (None, 16, 16, 64)        18496     \n",
      "                                                                 \n",
      " max_pooling2d_10 (MaxPoolin  (None, 8, 8, 64)         0         \n",
      " g2D)                                                            \n",
      "                                                                 \n",
      " conv2d_29 (Conv2D)          (None, 8, 8, 128)         73856     \n",
      "                                                                 \n",
      " max_pooling2d_11 (MaxPoolin  (None, 4, 4, 128)        0         \n",
      " g2D)                                                            \n",
      "                                                                 \n",
      " conv2d_30 (Conv2D)          (None, 4, 4, 256)         295168    \n",
      "                                                                 \n",
      " conv2d_31 (Conv2D)          (None, 4, 4, 3)           6915      \n",
      "                                                                 \n",
      " conv2d_32 (Conv2D)          (None, 4, 4, 128)         3584      \n",
      "                                                                 \n",
      " up_sampling2d_9 (UpSampling  (None, 8, 8, 128)        0         \n",
      " 2D)                                                             \n",
      "                                                                 \n",
      " conv2d_33 (Conv2D)          (None, 8, 8, 64)          73792     \n",
      "                                                                 \n",
      " up_sampling2d_10 (UpSamplin  (None, 16, 16, 64)       0         \n",
      " g2D)                                                            \n",
      "                                                                 \n",
      " conv2d_34 (Conv2D)          (None, 16, 16, 32)        18464     \n",
      "                                                                 \n",
      " up_sampling2d_11 (UpSamplin  (None, 32, 32, 32)       0         \n",
      " g2D)                                                            \n",
      "                                                                 \n",
      " conv2d_35 (Conv2D)          (None, 32, 32, 3)         867       \n",
      "                                                                 \n",
      "=================================================================\n",
      "Total params: 492,038\n",
      "Trainable params: 492,038\n",
      "Non-trainable params: 0\n",
      "_________________________________________________________________\n"
     ]
    }
   ],
   "source": [
    "# suggested layers to use. feel free to add or remove as you see fit.\n",
    "from keras.layers import Conv2D, UpSampling2D\n",
    "\n",
    "# use the Sequential API (you can remove if you want to use the Functional API)\n",
    "inputs = tf.keras.layers.Input(shape = (32, 32, 3))\n",
    "x = tf.keras.layers.Conv2D(32, (3, 3), activation = 'relu', padding = 'same')(inputs)\n",
    "x = tf.keras.layers.MaxPooling2D(pool_size = (2, 2))(x)\n",
    "x = tf.keras.layers.Conv2D(64, (3, 3), activation = 'relu', padding = 'same')(x)\n",
    "x = tf.keras.layers.MaxPooling2D(pool_size = (2, 2))(x)\n",
    "x = tf.keras.layers.Conv2D(128, (3, 3), activation = 'relu', padding = 'same')(x)\n",
    "x = tf.keras.layers.MaxPooling2D(pool_size = (2, 2))(x)\n",
    "x = tf.keras.layers.Conv2D(256, (3, 3), activation = 'relu', padding = 'same')(x)\n",
    "x = tf.keras.layers.Conv2D(3, (3, 3), activation = 'relu', padding = 'same')(x)\n",
    "x = tf.keras.layers.Conv2D(128, (3, 3), activation = 'relu', padding = 'same')(x)\n",
    "x = tf.keras.layers.UpSampling2D(size = (2, 2))(x)\n",
    "x = tf.keras.layers.Conv2D(64, (3, 3), activation = 'relu', padding = 'same')(x)\n",
    "x = tf.keras.layers.UpSampling2D(size = (2, 2))(x)\n",
    "x = tf.keras.layers.Conv2D(32, (3, 3), activation = 'relu', padding = 'same')(x)\n",
    "x = tf.keras.layers.UpSampling2D(size = (2, 2))(x)\n",
    "outputs = tf.keras.layers.Conv2D(3, (3, 3), activation = 'sigmoid', padding = 'same')(x)\n",
    "model = tf.keras.Model(inputs, outputs)\n",
    "### END CODE HERE ###\n",
    "\n",
    "model.summary()"
   ]
  },
  {
   "cell_type": "markdown",
   "metadata": {
    "id": "jRWTAijKEVUC"
   },
   "source": [
    "## Configure training parameters\n",
    "\n",
    "We have already provided the optimizer, metrics, and loss in the code below."
   ]
  },
  {
   "cell_type": "code",
   "execution_count": 19,
   "metadata": {
    "id": "iHIeD9eDETSk"
   },
   "outputs": [],
   "source": [
    "# Please do not change the model.compile() parameters\n",
    "model.compile(optimizer='adam', metrics=['accuracy'], loss='mean_squared_error')"
   ]
  },
  {
   "cell_type": "markdown",
   "metadata": {
    "id": "tLQPhm1W_8dC"
   },
   "source": [
    "## Training\n",
    "\n",
    "You can now use [model.fit()](https://keras.io/api/models/model_training_apis/#fit-method) to train your model. You will pass in the `train_dataset` and you are free to configure the other parameters. As with any training, you should see the loss generally going down and the accuracy going up with each epoch. If not, please revisit the previous sections to find possible bugs.\n",
    "\n",
    "*Note: If you get a `dataset length is infinite` error. Please check how you defined `train_dataset`. You might have included a [method that repeats the dataset indefinitely](https://www.tensorflow.org/api_docs/python/tf/data/Dataset#repeat).*"
   ]
  },
  {
   "cell_type": "code",
   "execution_count": 23,
   "metadata": {
    "colab": {
     "base_uri": "https://localhost:8080/"
    },
    "id": "AMBimOnsRvg0",
    "outputId": "bf556097-8f86-4fa7-ce40-bd572943ee21"
   },
   "outputs": [
    {
     "name": "stdout",
     "output_type": "stream",
     "text": [
      "Epoch 1/100\n",
      "3/3 [==============================] - 1s 102ms/step - loss: 0.0212 - accuracy: 0.4679\n",
      "Epoch 2/100\n",
      "3/3 [==============================] - 0s 99ms/step - loss: 0.0209 - accuracy: 0.4901\n",
      "Epoch 3/100\n",
      "3/3 [==============================] - 0s 89ms/step - loss: 0.0200 - accuracy: 0.5000\n",
      "Epoch 4/100\n",
      "3/3 [==============================] - 0s 96ms/step - loss: 0.0206 - accuracy: 0.4979\n",
      "Epoch 5/100\n",
      "3/3 [==============================] - 0s 92ms/step - loss: 0.0193 - accuracy: 0.5114\n",
      "Epoch 6/100\n",
      "3/3 [==============================] - 0s 90ms/step - loss: 0.0194 - accuracy: 0.5138\n",
      "Epoch 7/100\n",
      "3/3 [==============================] - 0s 95ms/step - loss: 0.0189 - accuracy: 0.5285\n",
      "Epoch 8/100\n",
      "3/3 [==============================] - 0s 96ms/step - loss: 0.0191 - accuracy: 0.5205\n",
      "Epoch 9/100\n",
      "3/3 [==============================] - 0s 91ms/step - loss: 0.0179 - accuracy: 0.5428\n",
      "Epoch 10/100\n",
      "3/3 [==============================] - 0s 88ms/step - loss: 0.0191 - accuracy: 0.5646\n",
      "Epoch 11/100\n",
      "3/3 [==============================] - 0s 93ms/step - loss: 0.0180 - accuracy: 0.5494\n",
      "Epoch 12/100\n",
      "3/3 [==============================] - 0s 88ms/step - loss: 0.0181 - accuracy: 0.5338\n",
      "Epoch 13/100\n",
      "3/3 [==============================] - 0s 91ms/step - loss: 0.0176 - accuracy: 0.5516\n",
      "Epoch 14/100\n",
      "3/3 [==============================] - 0s 88ms/step - loss: 0.0173 - accuracy: 0.5867\n",
      "Epoch 15/100\n",
      "3/3 [==============================] - 0s 90ms/step - loss: 0.0181 - accuracy: 0.6086\n",
      "Epoch 16/100\n",
      "3/3 [==============================] - 0s 89ms/step - loss: 0.0174 - accuracy: 0.5791\n",
      "Epoch 17/100\n",
      "3/3 [==============================] - 0s 91ms/step - loss: 0.0181 - accuracy: 0.5651\n",
      "Epoch 18/100\n",
      "3/3 [==============================] - 0s 91ms/step - loss: 0.0212 - accuracy: 0.5536\n",
      "Epoch 19/100\n",
      "3/3 [==============================] - 0s 91ms/step - loss: 0.0186 - accuracy: 0.5808\n",
      "Epoch 20/100\n",
      "3/3 [==============================] - 0s 94ms/step - loss: 0.0193 - accuracy: 0.5632\n",
      "Epoch 21/100\n",
      "3/3 [==============================] - 0s 95ms/step - loss: 0.0183 - accuracy: 0.5889\n",
      "Epoch 22/100\n",
      "3/3 [==============================] - 0s 91ms/step - loss: 0.0177 - accuracy: 0.5624\n",
      "Epoch 23/100\n",
      "3/3 [==============================] - 0s 95ms/step - loss: 0.0175 - accuracy: 0.5698\n",
      "Epoch 24/100\n",
      "3/3 [==============================] - 0s 92ms/step - loss: 0.0174 - accuracy: 0.5693\n",
      "Epoch 25/100\n",
      "3/3 [==============================] - 0s 99ms/step - loss: 0.0171 - accuracy: 0.5859\n",
      "Epoch 26/100\n",
      "3/3 [==============================] - 0s 97ms/step - loss: 0.0165 - accuracy: 0.5668\n",
      "Epoch 27/100\n",
      "3/3 [==============================] - 0s 98ms/step - loss: 0.0164 - accuracy: 0.6059\n",
      "Epoch 28/100\n",
      "3/3 [==============================] - 0s 96ms/step - loss: 0.0165 - accuracy: 0.6185\n",
      "Epoch 29/100\n",
      "3/3 [==============================] - 0s 92ms/step - loss: 0.0166 - accuracy: 0.6049\n",
      "Epoch 30/100\n",
      "3/3 [==============================] - 0s 93ms/step - loss: 0.0165 - accuracy: 0.5802\n",
      "Epoch 31/100\n",
      "3/3 [==============================] - 0s 96ms/step - loss: 0.0161 - accuracy: 0.6063\n",
      "Epoch 32/100\n",
      "3/3 [==============================] - 0s 96ms/step - loss: 0.0158 - accuracy: 0.5749\n",
      "Epoch 33/100\n",
      "3/3 [==============================] - 0s 95ms/step - loss: 0.0166 - accuracy: 0.5932\n",
      "Epoch 34/100\n",
      "3/3 [==============================] - 0s 98ms/step - loss: 0.0173 - accuracy: 0.6066\n",
      "Epoch 35/100\n",
      "3/3 [==============================] - 0s 105ms/step - loss: 0.0167 - accuracy: 0.5994\n",
      "Epoch 36/100\n",
      "3/3 [==============================] - 0s 88ms/step - loss: 0.0161 - accuracy: 0.5818\n",
      "Epoch 37/100\n",
      "3/3 [==============================] - 0s 90ms/step - loss: 0.0159 - accuracy: 0.5801\n",
      "Epoch 38/100\n",
      "3/3 [==============================] - 0s 96ms/step - loss: 0.0161 - accuracy: 0.5841\n",
      "Epoch 39/100\n",
      "3/3 [==============================] - 0s 94ms/step - loss: 0.0155 - accuracy: 0.6129\n",
      "Epoch 40/100\n",
      "3/3 [==============================] - 0s 93ms/step - loss: 0.0154 - accuracy: 0.6209\n",
      "Epoch 41/100\n",
      "3/3 [==============================] - 0s 91ms/step - loss: 0.0158 - accuracy: 0.6087\n",
      "Epoch 42/100\n",
      "3/3 [==============================] - 0s 90ms/step - loss: 0.0155 - accuracy: 0.5900\n",
      "Epoch 43/100\n",
      "3/3 [==============================] - 0s 91ms/step - loss: 0.0158 - accuracy: 0.5941\n",
      "Epoch 44/100\n",
      "3/3 [==============================] - 0s 94ms/step - loss: 0.0162 - accuracy: 0.5907\n",
      "Epoch 45/100\n",
      "3/3 [==============================] - 0s 92ms/step - loss: 0.0202 - accuracy: 0.5997\n",
      "Epoch 46/100\n",
      "3/3 [==============================] - 0s 93ms/step - loss: 0.0172 - accuracy: 0.5975\n",
      "Epoch 47/100\n",
      "3/3 [==============================] - 0s 95ms/step - loss: 0.0171 - accuracy: 0.5809\n",
      "Epoch 48/100\n",
      "3/3 [==============================] - 0s 103ms/step - loss: 0.0163 - accuracy: 0.5906\n",
      "Epoch 49/100\n",
      "3/3 [==============================] - 0s 99ms/step - loss: 0.0163 - accuracy: 0.6010\n",
      "Epoch 50/100\n",
      "3/3 [==============================] - 0s 93ms/step - loss: 0.0161 - accuracy: 0.5928\n",
      "Epoch 51/100\n",
      "3/3 [==============================] - 0s 95ms/step - loss: 0.0158 - accuracy: 0.5879\n",
      "Epoch 52/100\n",
      "3/3 [==============================] - 0s 94ms/step - loss: 0.0156 - accuracy: 0.5821\n",
      "Epoch 53/100\n",
      "3/3 [==============================] - 0s 90ms/step - loss: 0.0151 - accuracy: 0.5851\n",
      "Epoch 54/100\n",
      "3/3 [==============================] - 0s 95ms/step - loss: 0.0152 - accuracy: 0.6055\n",
      "Epoch 55/100\n",
      "3/3 [==============================] - 0s 90ms/step - loss: 0.0150 - accuracy: 0.6104\n",
      "Epoch 56/100\n",
      "3/3 [==============================] - 0s 90ms/step - loss: 0.0152 - accuracy: 0.5756\n",
      "Epoch 57/100\n",
      "3/3 [==============================] - 0s 95ms/step - loss: 0.0155 - accuracy: 0.5914\n",
      "Epoch 58/100\n",
      "3/3 [==============================] - 0s 95ms/step - loss: 0.0146 - accuracy: 0.5826\n",
      "Epoch 59/100\n",
      "3/3 [==============================] - 0s 92ms/step - loss: 0.0148 - accuracy: 0.6085\n",
      "Epoch 60/100\n",
      "3/3 [==============================] - 0s 97ms/step - loss: 0.0151 - accuracy: 0.6156\n",
      "Epoch 61/100\n",
      "3/3 [==============================] - 0s 93ms/step - loss: 0.0155 - accuracy: 0.5846\n",
      "Epoch 62/100\n",
      "3/3 [==============================] - 0s 95ms/step - loss: 0.0144 - accuracy: 0.5774\n",
      "Epoch 63/100\n",
      "3/3 [==============================] - 0s 91ms/step - loss: 0.0143 - accuracy: 0.5777\n",
      "Epoch 64/100\n",
      "3/3 [==============================] - 0s 86ms/step - loss: 0.0150 - accuracy: 0.6093\n",
      "Epoch 65/100\n",
      "3/3 [==============================] - 0s 96ms/step - loss: 0.0154 - accuracy: 0.6230\n",
      "Epoch 66/100\n",
      "3/3 [==============================] - 0s 98ms/step - loss: 0.0147 - accuracy: 0.6076\n",
      "Epoch 67/100\n",
      "3/3 [==============================] - 0s 89ms/step - loss: 0.0149 - accuracy: 0.5759\n",
      "Epoch 68/100\n",
      "3/3 [==============================] - 0s 96ms/step - loss: 0.0153 - accuracy: 0.6070\n",
      "Epoch 69/100\n",
      "3/3 [==============================] - 0s 88ms/step - loss: 0.0156 - accuracy: 0.6340\n",
      "Epoch 70/100\n",
      "3/3 [==============================] - 0s 97ms/step - loss: 0.0145 - accuracy: 0.6220\n",
      "Epoch 71/100\n",
      "3/3 [==============================] - 0s 91ms/step - loss: 0.0150 - accuracy: 0.5949\n",
      "Epoch 72/100\n",
      "3/3 [==============================] - 0s 98ms/step - loss: 0.0144 - accuracy: 0.6113\n",
      "Epoch 73/100\n",
      "3/3 [==============================] - 0s 94ms/step - loss: 0.0145 - accuracy: 0.5877\n",
      "Epoch 74/100\n",
      "3/3 [==============================] - 0s 96ms/step - loss: 0.0139 - accuracy: 0.6172\n",
      "Epoch 75/100\n",
      "3/3 [==============================] - 0s 101ms/step - loss: 0.0142 - accuracy: 0.6361\n",
      "Epoch 76/100\n",
      "3/3 [==============================] - 0s 94ms/step - loss: 0.0144 - accuracy: 0.6314\n",
      "Epoch 77/100\n",
      "3/3 [==============================] - 0s 94ms/step - loss: 0.0158 - accuracy: 0.6045\n",
      "Epoch 78/100\n",
      "3/3 [==============================] - 0s 101ms/step - loss: 0.0164 - accuracy: 0.5954\n",
      "Epoch 79/100\n",
      "3/3 [==============================] - 0s 96ms/step - loss: 0.0151 - accuracy: 0.6225\n",
      "Epoch 80/100\n",
      "3/3 [==============================] - 0s 87ms/step - loss: 0.0159 - accuracy: 0.5942\n",
      "Epoch 81/100\n",
      "3/3 [==============================] - 0s 92ms/step - loss: 0.0148 - accuracy: 0.6025\n",
      "Epoch 82/100\n",
      "3/3 [==============================] - 0s 104ms/step - loss: 0.0151 - accuracy: 0.5818\n",
      "Epoch 83/100\n",
      "3/3 [==============================] - 0s 89ms/step - loss: 0.0145 - accuracy: 0.6081\n",
      "Epoch 84/100\n",
      "3/3 [==============================] - 0s 87ms/step - loss: 0.0143 - accuracy: 0.6102\n",
      "Epoch 85/100\n",
      "3/3 [==============================] - 0s 88ms/step - loss: 0.0144 - accuracy: 0.5887\n",
      "Epoch 86/100\n",
      "3/3 [==============================] - 0s 92ms/step - loss: 0.0145 - accuracy: 0.6225\n",
      "Epoch 87/100\n",
      "3/3 [==============================] - 0s 89ms/step - loss: 0.0147 - accuracy: 0.6097\n",
      "Epoch 88/100\n",
      "3/3 [==============================] - 0s 93ms/step - loss: 0.0150 - accuracy: 0.6188\n",
      "Epoch 89/100\n",
      "3/3 [==============================] - 0s 96ms/step - loss: 0.0150 - accuracy: 0.6270\n",
      "Epoch 90/100\n",
      "3/3 [==============================] - 0s 91ms/step - loss: 0.0141 - accuracy: 0.6093\n",
      "Epoch 91/100\n",
      "3/3 [==============================] - 0s 91ms/step - loss: 0.0145 - accuracy: 0.6123\n",
      "Epoch 92/100\n",
      "3/3 [==============================] - 0s 95ms/step - loss: 0.0141 - accuracy: 0.6389\n",
      "Epoch 93/100\n",
      "3/3 [==============================] - 0s 97ms/step - loss: 0.0141 - accuracy: 0.6379\n",
      "Epoch 94/100\n",
      "3/3 [==============================] - 0s 101ms/step - loss: 0.0145 - accuracy: 0.6539\n",
      "Epoch 95/100\n",
      "3/3 [==============================] - 0s 90ms/step - loss: 0.0133 - accuracy: 0.6380\n",
      "Epoch 96/100\n",
      "3/3 [==============================] - 0s 97ms/step - loss: 0.0132 - accuracy: 0.6313\n",
      "Epoch 97/100\n",
      "3/3 [==============================] - 0s 92ms/step - loss: 0.0142 - accuracy: 0.6276\n",
      "Epoch 98/100\n",
      "3/3 [==============================] - 0s 93ms/step - loss: 0.0144 - accuracy: 0.6023\n",
      "Epoch 99/100\n",
      "3/3 [==============================] - 0s 94ms/step - loss: 0.0139 - accuracy: 0.6428\n",
      "Epoch 100/100\n",
      "3/3 [==============================] - 0s 96ms/step - loss: 0.0132 - accuracy: 0.6256\n"
     ]
    },
    {
     "data": {
      "text/plain": [
       "<keras.callbacks.History at 0x7f8c401752d0>"
      ]
     },
     "execution_count": 23,
     "metadata": {},
     "output_type": "execute_result"
    }
   ],
   "source": [
    "# parameters (feel free to change this)\n",
    "train_steps = len(train_dataset) // BATCH_SIZE \n",
    "val_steps = len(test_dataset) // BATCH_SIZE\n",
    "\n",
    "### START CODE HERE ###\n",
    "model.fit(train_dataset, steps_per_epoch = train_steps, validation_data = test_dataset, validation_steps = val_steps, epochs = 100)\n",
    "### END CODE HERE ###"
   ]
  },
  {
   "cell_type": "markdown",
   "metadata": {
    "id": "PT2l1c-SAaF4"
   },
   "source": [
    "## Model evaluation\n",
    "\n",
    "You can use this code to test your model locally before uploading to the grader. To pass, your model needs to satisfy these two requirements:\n",
    "\n",
    "* loss must be less than 0.01 \n",
    "* accuracy must be greater than 0.6"
   ]
  },
  {
   "cell_type": "code",
   "execution_count": 24,
   "metadata": {
    "colab": {
     "base_uri": "https://localhost:8080/"
    },
    "id": "vFncgqahSQhA",
    "outputId": "e2576fcb-8415-4a52-d743-aa031ad70383"
   },
   "outputs": [
    {
     "name": "stdout",
     "output_type": "stream",
     "text": [
      "10/10 [==============================] - 0s 40ms/step - loss: 0.0136 - accuracy: 0.6221\n"
     ]
    }
   ],
   "source": [
    "result = model.evaluate(test_dataset, steps=10)"
   ]
  },
  {
   "cell_type": "markdown",
   "metadata": {
    "id": "di6VOHGwIsVM"
   },
   "source": [
    "If you did some visualization like in the ungraded labs, then you might see something like the gallery below. This part is not required."
   ]
  },
  {
   "cell_type": "markdown",
   "metadata": {
    "id": "wmpI4skkIA5L"
   },
   "source": [
    "<img src=\"https://drive.google.com/uc?export=view&id=12Fy-guiP-3tTPfc9IV2nHhqLvs7LwRo6\" width=\"75%\" height=\"75%\"/>"
   ]
  },
  {
   "cell_type": "markdown",
   "metadata": {
    "id": "uaRSkQPNAPT0"
   },
   "source": [
    "## Save your model\n",
    "\n",
    "Once you are satisfied with the results, you can now save your model. Please download it from the Files window on the left and go back to the Submission portal in Coursera for grading."
   ]
  },
  {
   "cell_type": "code",
   "execution_count": 25,
   "metadata": {
    "id": "pLFpLP-c7rDR"
   },
   "outputs": [],
   "source": [
    "model.save('mymodel.h5')"
   ]
  },
  {
   "cell_type": "markdown",
   "metadata": {
    "id": "QArMiXJTDxDe"
   },
   "source": [
    "**Congratulations on completing this week's assignment!**"
   ]
  }
 ],
 "metadata": {
  "accelerator": "GPU",
  "colab": {
   "collapsed_sections": [],
   "name": "C4W2_Assignment.ipynb",
   "provenance": []
  },
  "kernelspec": {
   "display_name": "Python 3",
   "language": "python",
   "name": "python3"
  },
  "language_info": {
   "codemirror_mode": {
    "name": "ipython",
    "version": 3
   },
   "file_extension": ".py",
   "mimetype": "text/x-python",
   "name": "python",
   "nbconvert_exporter": "python",
   "pygments_lexer": "ipython3",
   "version": "3.7.3"
  }
 },
 "nbformat": 4,
 "nbformat_minor": 1
}
